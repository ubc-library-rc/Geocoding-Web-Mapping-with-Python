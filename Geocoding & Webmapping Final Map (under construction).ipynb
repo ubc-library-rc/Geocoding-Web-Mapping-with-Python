{
 "cells": [
  {
   "cell_type": "markdown",
   "metadata": {},
   "source": [
    "<font size=\"20\">Final Map</font>"
   ]
  },
  {
   "cell_type": "markdown",
   "metadata": {},
   "source": []
  },
  {
   "cell_type": "code",
   "execution_count": null,
   "metadata": {
    "scrolled": false
   },
   "outputs": [],
   "source": [
    "# The import command allows us to call on various libraries\n",
    "import folium\n",
    "import numpy as np\n",
    "import pandas as pd\n",
    "import scipy.stats as stats\n",
    "import geopandas as gpd\n",
    "import matplotlib.pyplot as plt\n",
    "import branca.colormap as cm\n",
    "from geopy.geocoders import MapBox\n",
    "from IPython.display import clear_output\n",
    "\n",
    "# This allows us to create interactive plots with matplotlib\n",
    "%matplotlib notebook\n",
    "\n",
    "# You need this to query mapbox\n",
    "api_key=\"\"\n",
    "\n",
    "if api_key == \"\":\n",
    "    print('Please enter your API key to continue!')\n",
    "else:\n",
    "    print('Packages Loaded')"
   ]
  },
  {
   "cell_type": "markdown",
   "metadata": {},
   "source": [
    "# Importing Census Data\n"
   ]
  },
  {
   "cell_type": "code",
   "execution_count": null,
   "metadata": {},
   "outputs": [],
   "source": [
    "# the .read_file() function reads shapefiles\n",
    "Toronto_CT = gpd.read_file('Data/CensusTracts/SimplyAnalytics_Shapefiles_2021-08-05_05_16_56_b1eb67b672fbcfbefd2c809a81d68228.shp')\n",
    "print(Toronto_CT.crs)\n",
    "Toronto_CT = Toronto_CT.rename(columns={\n",
    "'VALUE0': 'Aboriginal identity, 2016',\n",
    "'VALUE1': 'Population, 2016',\n",
    "'VALUE2': 'Total visible minority population, 2016'\n",
    "                    })\n",
    "\n",
    "Toronto_CT['NonWhitePCT'] = Toronto_CT[['Aboriginal identity, 2016',\n",
    "'Total visible minority population, 2016']].sum(axis=1)/Toronto_CT['Population, 2016']*100\n",
    "\n",
    "# .to_crs()changes the coordinate system\n",
    "# Provincial_Data = Provincial_Data.to_crs('EPSG:4326')\n",
    "# .to_file() saves our data to the specified format\n",
    "print('Data Converted')\n",
    "print(Toronto_CT.NonWhitePCT.describe())\n",
    "Toronto_CT.to_file(\"Data/Toronto_CT.json\", driver = \"GeoJSON\")\n",
    "Toronto_CT.head()"
   ]
  },
  {
   "cell_type": "markdown",
   "metadata": {},
   "source": [
    "# Importing Police Involved Deaths Data\n"
   ]
  },
  {
   "cell_type": "code",
   "execution_count": null,
   "metadata": {},
   "outputs": [],
   "source": [
    "PID = pd.read_csv('Data/Police_Inovolved_Deaths_Canada.csv',index_col='id_victim',parse_dates=['date'])\n",
    "# print(PID.columns)\n",
    "PID['postal_code'] = PID['postal_code'].fillna('Unspecified')\n",
    "PID['postal_code'] = PID['postal_code'].fillna('Unspecified')\n",
    "PID_BC = PID.loc[((PID['prov']=='BC')&(PID['postal_code']!='Unspecified'))].copy()\n",
    "print(PID_BC['postal_code'].count())\n",
    "# print(PID_BC['city_town'].unique())\n",
    "PID_BC['city_town'] = PID_BC['city_town'].str.split(';').str[0]\n",
    "# PID_BC['city_town']\n",
    "# We'll create empty columns for latitude & longitude\n",
    "# We'll create a \"notes\" column as well\n",
    "PID_BC['address_intersection']=PID_BC['address_intersection'].fillna('')\n",
    "PID_BC['race']=PID_BC['race'].fillna('Unspecified')\n",
    "PID_BC['gender']=PID_BC['gender'].fillna('Unspecified')\n",
    "PID_BC['latitude'] = np.nan\n",
    "PID_BC['longitude'] = np.nan\n",
    "PID_BC['geocoding_Notes'] = ''\n",
    "print(PID_BC.columns)"
   ]
  },
  {
   "cell_type": "markdown",
   "metadata": {},
   "source": [
    "# Geocoding"
   ]
  },
  {
   "cell_type": "code",
   "execution_count": null,
   "metadata": {
    "scrolled": true
   },
   "outputs": [],
   "source": [
    "geolocator = MapBox(api_key=api_key)\n",
    "\n",
    "i = 0\n",
    "for index, row in PID_BC.iterrows():\n",
    "    attempt = ' '.join([row['address_intersection'], row['city_town'], row['prov'], row['postal_code'],'Canada'])\n",
    "    try:\n",
    "        # Progress report\n",
    "        if i % 25 == 0:\n",
    "            clear_output()\n",
    "            print(\"PROGRESS: {} out of {}. Currently at: {}\".format(i, len(PID_BC), i))\n",
    "\n",
    "        g = geolocator.geocode(attempt,timeout=3)\n",
    "    #     print(i,g.latitude)\n",
    "        PID_BC.loc[PID_BC.index==index,\n",
    "                    ['latitude','longitude']]=g.latitude,g.longitude\n",
    "    except:\n",
    "        \n",
    "        Police_Killings.loc[Police_Killings['postal_code']==row['postal_code'],\n",
    "                    'geocoding_Notes']='Geocoding Failed'\n",
    "        pass\n",
    "    i += 1\n",
    "print('Geocoding Done')\n"
   ]
  },
  {
   "cell_type": "code",
   "execution_count": null,
   "metadata": {},
   "outputs": [],
   "source": [
    "Failures = (PID_BC.loc[PID_BC['geocoding_Notes']=='Geocoding Failed',\n",
    "                          ['prov','postal_code']])\n",
    "print(Failures)\n"
   ]
  },
  {
   "cell_type": "code",
   "execution_count": null,
   "metadata": {
    "scrolled": false
   },
   "outputs": [],
   "source": [
    "# \"def\" defines our function \"plot_point()\", which takes five \"arguments\":\n",
    "    # Map: The map you're working with\n",
    "    # X & Y: lattitude & longitude\n",
    "    # Popup_Text: What do we want the popup to say?\n",
    "    # Color: We'll set a defualt, but we can override with what colour do we want\n",
    "        # Everything else will remain the same for every point, so we can set them as default values\n",
    "    # Defaults can be over written by assigning them anoter value\n",
    "def plot_point(Map,X,Y,Popup_Text,Color='olive',Radius=5,Opacity=.75,LineColor='black',LineWidth=.15):\n",
    "    folium.CircleMarker(\n",
    "        # The coordiatnates\n",
    "        location=[X,Y],\n",
    "        # Text description\n",
    "        popup=Popup_Text,\n",
    "        # sets the fill color for the point\n",
    "        fill_color=Color,\n",
    "        # Size of the marker\n",
    "        radius=Radius,\n",
    "        # Opacity of the circle\n",
    "        fill_opacity = Opacity,\n",
    "        # Sets the line color for the edge\n",
    "        color=LineColor,\n",
    "        # Width of the border line\n",
    "        line_weight=LineWidth,\n",
    "    ).add_to(Map)"
   ]
  },
  {
   "cell_type": "markdown",
   "metadata": {},
   "source": [
    "# Make a webmap showing all incidents in BC & census data for metro vancouver"
   ]
  },
  {
   "cell_type": "code",
   "execution_count": null,
   "metadata": {
    "scrolled": false
   },
   "outputs": [],
   "source": [
    "\n",
    "BC_Map = folium.Map(\n",
    "    location=['49.260438','-123.088896'],\n",
    "    zoom_start=11,\n",
    "    tiles='Stamen Toner'\n",
    ")\n",
    "\n",
    "\n",
    "# The .features.Chloropleth() function allows us to classify our data\n",
    "# We give function the location of our GeoJSON file\n",
    "\n",
    "folium.features.Choropleth('Data/MVan_CT.json',\n",
    "                           # It will match the geometry data up with a pandas or geopandas dataframe\n",
    "                            data=MVan_CT,\n",
    "                            columns=['spatial_id','NonWhitePCT'],\n",
    "                           # They key in the GeoJSON file to match by\n",
    "                            key_on='feature.properties.spatial_id',\n",
    "                           # If we define bins, it will split where we tell it to\n",
    "                            bins = [0,25,50,75,101],\n",
    "                            fill_color='PuRd',\n",
    "                            fill_opacity = 1,\n",
    "                            smooth=2,\n",
    "                           # The layer name\n",
    "                            name='Non-White Population %',\n",
    "                           # The legend label\n",
    "                            legend_name='Non-White',\n",
    "                           # Whether it shows up by default or must be turned on with the legend\n",
    "                            show=False\n",
    "                          ).add_to(BC_Map)\n",
    "\n",
    "\n",
    "colormap = cm.linear.PuRd_05.scale(MVan_CT['Population, 2016'].min(), MVan_CT['Population, 2016'].max())\n",
    "colormap = cm.LinearColormap(['white','blue'],vmin= MVan_CT['Population, 2016'].min(),vmax=MVan_CT['Population, 2016'].max())\n",
    "# colormap = colormap.to_step(index=[MVan_CT['Population, 2016'].min(),\n",
    "#                                    MVan_CT['Population, 2016'].quantile(.25),\n",
    "#                                    MVan_CT['Population, 2016'].quantile(.5), \n",
    "#                                    MVan_CT['Population, 2016'].quantile(.75), \n",
    "#                                    MVan_CT['Population, 2016'].max()],\n",
    "#                            round_method =None)\n",
    "colormap.caption = 'Total Population %'\n",
    "# colormap.caption = 'Police Killings/ Year / Million People (2000-2017)'\n",
    "colormap.add_to(BC_Map)\n",
    "\n",
    "folium.GeoJson(\n",
    "    'Data/MVan_CT.json',\n",
    "    name='Total Population',\n",
    "    smooth_factor=1.75,\n",
    "    style_function = lambda x:{'color':'black',\n",
    "                               \"weight\": 1,\n",
    "                               \"fillOpacity\": 1,\n",
    "                              'fillColor':colormap(x['properties']['Population, 2016'])\n",
    "                              },\n",
    "    tooltip=folium.features.GeoJsonTooltip(fields=['Aboriginal identity, 2016',\n",
    "    'Total visible minority population, 2016',\n",
    "    'NonWhitePCT'],\n",
    "       aliases=['Indigineous Population',\n",
    "                'Visible Minorit (non-Indigenou) Poulation','NonWhitePCT']\n",
    "                                          ),\n",
    "    show = True\n",
    ").add_to(BC_Map)\n",
    "\n",
    "\n",
    "\n",
    "group = folium.FeatureGroup(name='Deaths')\n",
    "for index, row in PID_BC.iterrows():\n",
    "    # if the geocoding didn't fail, we'll plot the point, colored by the province\n",
    "    if row['geocoding_Notes'] != 'Geocoding Failed':\n",
    "#         print(row['race'], row['gender'],str(row['age']))\n",
    "        plot_point(Map=group,\n",
    "                   X=row['latitude'],\n",
    "                   Y=row['longitude'],\n",
    "                   Popup_Text=row['race']+' '+ row['gender'] + ' '+ str(row['age'])\\\n",
    "                     + ' '+ row['city_town'] + ' '+ row['prov']+ ' '+ row['postal_code'],\n",
    "                   Color='red'#color_Scheme[row['prov']]\n",
    "                  )\n",
    "\n",
    "group.add_to(BC_Map)\n",
    "\n",
    "folium.LayerControl().add_to(BC_Map)\n",
    "BC_Map"
   ]
  },
  {
   "cell_type": "code",
   "execution_count": null,
   "metadata": {},
   "outputs": [],
   "source": [
    "BC_Map.save('PoliceViolenceIncidents_BC.html')\n",
    "print('Map Saved!')"
   ]
  }
 ],
 "metadata": {
  "kernelspec": {
   "display_name": "Python 3",
   "language": "python",
   "name": "python3"
  },
  "language_info": {
   "codemirror_mode": {
    "name": "ipython",
    "version": 3
   },
   "file_extension": ".py",
   "mimetype": "text/x-python",
   "name": "python",
   "nbconvert_exporter": "python",
   "pygments_lexer": "ipython3",
   "version": "3.8.10"
  }
 },
 "nbformat": 4,
 "nbformat_minor": 4
}
