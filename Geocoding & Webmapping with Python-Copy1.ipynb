{
 "cells": [
  {
   "cell_type": "markdown",
   "metadata": {},
   "source": [
    "<font size=\"20\">Geocoding & Web Mapping with Python</font>"
   ]
  },
  {
   "cell_type": "markdown",
   "metadata": {},
   "source": [
    "# Step 1) Importing our packages.\n",
    "* To get started, we need to import all our packages.\n",
    "* We also need to paste our api key from https://account.mapbox.com/access-tokens/"
   ]
  },
  {
   "cell_type": "code",
   "execution_count": null,
   "metadata": {
    "scrolled": false
   },
   "outputs": [],
   "source": [
    "# The import command allows us to call on various libraries\n",
    "import folium\n",
    "import numpy as np\n",
    "import pandas as pd\n",
    "# import scipy.stats as stats\n",
    "import geopandas as gpd\n",
    "import matplotlib.pyplot as plt\n",
    "import branca.colormap as cm\n",
    "from geopy.geocoders import MapBox\n",
    "from IPython.display import clear_output\n",
    "\n",
    "# This allows us to create interactive plots with matplotlib\n",
    "%matplotlib notebook\n",
    "\n",
    "# You need this to query mapbox\n",
    "api_key=\"\"\n",
    "\n",
    "if api_key == \"\":\n",
    "    print('Please enter your API key to continue!')\n",
    "else:\n",
    "    print('Packages Loaded')"
   ]
  },
  {
   "cell_type": "markdown",
   "metadata": {},
   "source": [
    "# Step 1) Importing our data\n",
    "\n",
    "* We'll use a Pandas to import three .csv files using the .read_csv() function to load them as \"DataFrames\"\n",
    "    * We can set the header, automatically interpet dates, an set our table indexes"
   ]
  },
  {
   "cell_type": "code",
   "execution_count": null,
   "metadata": {
    "scrolled": false
   },
   "outputs": [],
   "source": [
    "# incident.csv contains postal code of the incident, province, municipality, along with the date and incident ID\n",
    "Incident = pd.read_csv(\n",
    "    'Data/incident.csv',\n",
    "    delimiter = ',',\n",
    "    header = 0,\n",
    "    parse_dates=['date'],\n",
    "    index_col=['id_incident']\n",
    ")\n",
    "\n",
    "# victim.csv contains information on the victms including age, race, etc.\n",
    "Victim = pd.read_csv(\n",
    "    'Data/victim.csv',\n",
    "    delimiter = ',',\n",
    "    header = 0, \n",
    "    index_col=['id_incident']\n",
    ")\n",
    "\n",
    "#police.csv contaisn information about the police department and oficer involved\n",
    "Police = pd.read_csv(\n",
    "    'Data/police.csv',\n",
    "    delimiter = ',',\n",
    "    header = 0, \n",
    "    index_col=['id_incident']\n",
    ")\n",
    "print('Data Loaded.')"
   ]
  },
  {
   "cell_type": "markdown",
   "metadata": {},
   "source": [
    "# Step 2) Joining all our data\n",
    "\n",
    "* The three files share the same index \"id_incident\"\n",
    "    * We can use this unique identifier to combine all our files into one.\n",
    "* Then we can set the date as the index."
   ]
  },
  {
   "cell_type": "code",
   "execution_count": null,
   "metadata": {},
   "outputs": [],
   "source": [
    "# First we'll join the incident and the victim records\n",
    "Join_1 = Incident.join(Victim)\n",
    "# Then we'll join the the police record\n",
    "Join_2 = Join_1.join(Police)\n",
    "\n",
    "# Resetting the index first allows us to keep 'id_incident'.\n",
    "# We can call set_index('date') to set the date as the index.\n",
    "# Setting drop to true, means that 'date' won't be duplicated as a column\n",
    "Police_Killings = Join_2.reset_index().set_index('date',drop = True)\n",
    "\n",
    "# Caling .columns function will give us all the column headers\n",
    "print(Police_Killings.columns)\n",
    "\n",
    "# Calling .head() will print the first 5 rows\n",
    "Police_Killings.head()\n"
   ]
  },
  {
   "cell_type": "markdown",
   "metadata": {},
   "source": [
    "# Step 3) Exploring the data\n",
    "\n",
    "* Pandas has special funcitons\n",
    "    * We can count, and summarize different variables\n",
    "\n",
    "* We can quickly calculate statiscis like averages or resampleby a specific interval (e.g. Yearly) \n",
    "* We can use matplotlib.pyplot (plt) to display our information"
   ]
  },
  {
   "cell_type": "code",
   "execution_count": null,
   "metadata": {
    "scrolled": false
   },
   "outputs": [],
   "source": [
    "print('Number of Incidents: ',Police_Killings['id_incident'].count())\n",
    "print('Descriptive Statistics Age: \\n', Police_Killings['age'].describe())\n",
    "print()\n",
    "\n",
    "# Resample will aggregate the data over a given time interval\n",
    "# 'Y' specifes we want years.  If you wanted monthly, you'd do 'M'\n",
    "# .count() specifies how to aggregate.  If you have numeric data you can use .mean(), .std() etc. instead\n",
    "# with text, you're limited to .count(), .first(), .last()\n",
    "Yearly = Police_Killings.resample('Y').count()\n",
    "\n",
    "## The linregress() function calcualtes a linear regression between the year and the number of killings\n",
    "LR = stats.linregress(Yearly.index.year,Yearly['id_incident'])\n",
    "print(LR)\n",
    "\n",
    "# We can create a figure size 5x4\n",
    "plt.figure(figsize=(5,4))\n",
    "\n",
    "# .scatter() allows us to plot points\n",
    "plt.scatter(Yearly.index.year,\n",
    "            Yearly['id_incident'],\n",
    "           color='black')\n",
    "\n",
    "# .plots() allows us to plot lines\n",
    "plt.plot(Yearly.index.year,\n",
    "         Yearly.index.year*LR[0]+LR[1],\n",
    "         color='red',\n",
    "         label='Trendline: '+str(np.round(LR[0],2))+'\\np = '+str(np.round(LR[3],3)))\n",
    "\n",
    "# We can set some specifics here.\n",
    "plt.title('Police Killings by Year in Canada')\n",
    "plt.xlabel('Year')\n",
    "plt.ylabel('Total')\n",
    "\n",
    "# Calling .legend() will display all entites we set a label for\n",
    "plt.legend()\n",
    "\n",
    "# .tight_layout() allows us to make sure things fit nicely\n",
    "plt.tight_layout()"
   ]
  },
  {
   "cell_type": "markdown",
   "metadata": {},
   "source": [
    "### We can also aggregate using .groupby()\n",
    "\n",
    "* This lets us conduct specific querries like:\n",
    "    * ### What type of weapon did the victim have?"
   ]
  },
  {
   "cell_type": "code",
   "execution_count": null,
   "metadata": {},
   "outputs": [],
   "source": [
    "# .groupby() accepts one or more records to aggregate by\n",
    "# .count() tells us how to aggregate\n",
    "Armed = Police_Killings.groupby(['armed_type']).count()\n",
    "\n",
    "plt.figure(figsize=(7,4))\n",
    "\n",
    "# .pie() creates a pie chart\n",
    "plt.pie(\n",
    "    Armed['id_victim'],\n",
    "    labels=Armed.index,\n",
    "    textprops={'fontsize': 8},\n",
    "    autopct='%1.1f%%',\n",
    "    wedgeprops={\"edgecolor\":\"k\",'linewidth': 1, 'linestyle': 'dashed'}\n",
    ")\n",
    "plt.title('Police Killings: Was the Victim Armed?')\n",
    "plt.tight_layout()\n"
   ]
  },
  {
   "cell_type": "markdown",
   "metadata": {},
   "source": [
    "### Lets make these categories easier to interpret\n",
    "* We can create a dictionary define the replacements we want to make\n",
    "* We can use some of pandas special functions to query and manipulate our data\n",
    "    * The .loc[] fucntion allows us to search for records\n",
    "    * The .repalce() fnuction lets us replace values"
   ]
  },
  {
   "cell_type": "code",
   "execution_count": null,
   "metadata": {},
   "outputs": [],
   "source": [
    "# Dictionaries use keys (eg. 'Vehicle') an values (eg. 'Other weapon')\n",
    "# They let us quickly look up values by a key\n",
    "replace_dict = {\n",
    "    'Air gun, replica gun':'Other weapons',\n",
    "    'Bat, club, other swinging object':'Other weapons',\n",
    "    'Vehicle':'Other weapons',\n",
    "    'Knife, axe, other cutting instruments':'Knife',\n",
    "    'Unknown':'None'\n",
    "          }\n",
    "\n",
    "# We can loop through te keys in the dictionary and use them to replace the disired values\n",
    "# .loc[] is a search command that allows us to perform specific querries\n",
    "# we can use it in combination with an equal sign (=) to replace values for a given column(s)\n",
    "for r in replace_dict.keys():\n",
    "    Police_Killings.loc[Police_Killings['armed_type']==r,'armed_type']=replace_dict[r]\n",
    "        \n",
    "        \n",
    "# Just making the same pic graph again\n",
    "plt.figure(figsize=(6,4))\n",
    "Armed = Police_Killings.groupby(['armed_type']).count()\n",
    "plt.pie(\n",
    "    Armed['id_victim'],\n",
    "    labels=Armed.index,\n",
    "    textprops={'fontsize': 8},\n",
    "    autopct='%1.1f%%',\n",
    "    wedgeprops={\"edgecolor\":\"k\",'linewidth': 1, 'linestyle': 'dashed'}\n",
    ")\n",
    "plt.title('Police Killings: Was the Victim Armed?')\n",
    "plt.tight_layout()"
   ]
  },
  {
   "cell_type": "markdown",
   "metadata": {},
   "source": [
    "### We can also make multiple plots together"
   ]
  },
  {
   "cell_type": "code",
   "execution_count": null,
   "metadata": {
    "scrolled": false
   },
   "outputs": [],
   "source": [
    "fig,ax= plt.subplots(2,1,figsize=(6,4))\n",
    "\n",
    "# Groupby allows us to search fo multiple records\n",
    "Force = Police_Killings.groupby(['Department','armed_type']).count()['id_victim']#.sort_values(ascending=True)\n",
    "\n",
    "Force=Force.unstack()\n",
    "col = Force.columns\n",
    "# Force['Total']=Force.sum(axis=1)\n",
    "# for c in col:\n",
    "#     Force[c] /= Force['Total']\n",
    "\n",
    "# Force = Force.sort_values(by='Total',ascending=False)#\n",
    "# print(Force)\n",
    "Force = Force.loc[Force['None']>1].sort_values(by='None')[-5:]\n",
    "\n",
    "# Force = Police_Killings.groupby('Department').count()['id_victim'].sort_values(ascending=True)\n",
    "ax[0].barh(Force.index,Force['None'],facecolor='#FF0000',edgecolor='black')\n",
    "ax[0].set_title('Departments Killing the Most Unarmed People')\n",
    "\n",
    "\n",
    "Charges = Police_Killings.loc[Police_Killings['armed_type']=='None'].groupby('Charges').count()\n",
    "ax[1].pie(\n",
    "    Charges['id_victim'],\n",
    "    labels=Charges.index,\n",
    "    textprops={'fontsize': 8},\n",
    "    autopct='%1.1f%%',\n",
    "    wedgeprops={\"edgecolor\":\"k\",'linewidth': 1, 'linestyle': 'dashed'}\n",
    ")\n",
    "ax[1].set_title('Was the Officer Charged for killing an unarmed person?')\n",
    "\n",
    "\n",
    "plt.tight_layout()"
   ]
  },
  {
   "cell_type": "markdown",
   "metadata": {},
   "source": [
    "### To look at the racial data, we need to normalize first\n",
    "* Canada is predominately white, we have to scale each group by the size of their population to calcualte a police killing rate\n",
    "    * We want calculate the Police Killing Rate per Milion Residents per Year for white, black, and indigenous people.\n",
    "    * What should we use as the scale factor?\n",
    "        * Hint the dataset spans the years 2000 to 2017\n",
    "    "
   ]
  },
  {
   "cell_type": "code",
   "execution_count": null,
   "metadata": {
    "scrolled": false
   },
   "outputs": [],
   "source": [
    "Race=['Caucasian','Black','Indigenous']\n",
    "Population=[25803368,1198545,1673780]\n",
    "\n",
    "scale = 1e6/18\n",
    "\n",
    "Count = Police_Killings.groupby('race')['id_incident'].count()\n",
    "\n",
    "plt.figure()\n",
    "\n",
    "i=0\n",
    "for race,population in (zip(Race,Population)):\n",
    "    if race == 'Total Population':\n",
    "        rate=((Count.sum()/population)*scale)\n",
    "    else:\n",
    "        rate=((Count[race]/population)*1e6/18)\n",
    "    plt.barh(i,rate,color='#FF0000',edgecolor='black')\n",
    "    i += 1\n",
    "plt.yticks([0,1,2],Race)\n",
    "plt.title('Police Killing Rates by Race')\n",
    "plt.xlabel('Killing/Year/Million People')\n",
    "plt.tight_layout()\n",
    "    \n",
    "print(Police_Killings.index.year.unique().shape)#.count())"
   ]
  },
  {
   "cell_type": "markdown",
   "metadata": {},
   "source": [
    "# Step 4) Geocoding & Webmap Examples\n",
    "\n",
    "* Geocoding is a method of getting the x,y (latitude and longitude) coordinates for an entity based on a text description.\n",
    "    * geopy has multiple geocoder options.  You can use googel, bing, open streetmaps, etc.\n",
    "    * We're using Mapbox becsue we get up to 15,000 free geocodes per month!\n",
    "        * Make sure you've entered your API key at the top of the notebook\n",
    "        \n",
    "### This will return our full address and we can print our lattitude and longitude"
   ]
  },
  {
   "cell_type": "code",
   "execution_count": null,
   "metadata": {},
   "outputs": [],
   "source": [
    "geolocator = MapBox(api_key=api_key)\n",
    "\n",
    "# Lets try a simple example first!  Type any address here and see what comes up!\n",
    "Test_Point = geolocator.geocode(\"2710 Fraser St. Vancouver BC\")#,exactly_one=False)\n",
    "\n",
    "print(Test_Point)\n",
    "print(Test_Point.latitude,Test_Point.longitude)"
   ]
  },
  {
   "cell_type": "markdown",
   "metadata": {},
   "source": [
    "### We can go in the opposite directin too, getting an address associated with a poin coordinate."
   ]
  },
  {
   "cell_type": "code",
   "execution_count": null,
   "metadata": {},
   "outputs": [],
   "source": [
    "Test_Point = geolocator.reverse(['49.260438','-123.088896'])\n",
    "print(Test_Point)"
   ]
  },
  {
   "cell_type": "markdown",
   "metadata": {},
   "source": [
    "## Lets make a webmap, centered on the address, displaying it as a blue dot\n",
    "\n",
    "* We'll use a pacakge called Follium:\n",
    "    * First we'll crate a Map, we'll call it Map.\n",
    "    * We'll set the location with our home lattitude and longitude, and set some other paramters.\n",
    "* Then we'll add our Test_Point using a CircleMarker.\n",
    "* The last step is to \"call\" the map, so it will display below"
   ]
  },
  {
   "cell_type": "code",
   "execution_count": null,
   "metadata": {},
   "outputs": [],
   "source": [
    "Map = folium.Map(\n",
    "    location=[Test_Point.latitude,Test_Point.longitude],\n",
    "    zoom_start=11,\n",
    ")\n",
    "\n",
    "point=folium.CircleMarker(\n",
    "        location=[Test_Point.latitude,Test_Point.longitude],\n",
    "        radius=10,\n",
    "        popup='Home!',\n",
    "        fill_opacity = 1,\n",
    "        fill=True,\n",
    "        color='black',\n",
    "        line_weight=.35,\n",
    "        fill_color='blue'\n",
    ")\n",
    "\n",
    "point.add_to(Map)\n",
    "\n",
    "Map"
   ]
  },
  {
   "cell_type": "markdown",
   "metadata": {},
   "source": [
    "## We've just created an interactive map.  Pretty cool right!?\n",
    "* You can zoom and pan.  Click on your home and see what happens!\n",
    "\n",
    "### This is handy, but if we have multiple points calling .CircleMarker repeatedly can be cumbersome\n",
    "\n",
    "* We can create a function to handle the details for us, and make it repeatable\n",
    "\n",
    "\n",
    "* We run the CircleMarker() function and add it to the map with one statement."
   ]
  },
  {
   "cell_type": "code",
   "execution_count": null,
   "metadata": {},
   "outputs": [],
   "source": [
    "# \"def\" defines our function \"plot_point()\", which takes five \"arguments\":\n",
    "    # Map: The map you're working with\n",
    "    # X & Y: lattitude & longitude\n",
    "    # Popup_Text: What do we want the popup to say?\n",
    "    # Color: We'll set a defualt, but we can override with what colour do we want\n",
    "        # Everything else will remain the same for every point, so we can set them as default values\n",
    "    # Defaults can be over written by assigning them anoter value\n",
    "def plot_point(Map,X,Y,Popup_Text,Color='olive',Radius=5,Opacity=.75,LineColor='black',LineWidth=.15):\n",
    "    folium.CircleMarker(\n",
    "        # The coordiatnates\n",
    "        location=[X,Y],\n",
    "        # Text description\n",
    "        popup=Popup_Text,\n",
    "        # sets the fill color for the point\n",
    "        fill_color=Color,\n",
    "        # Size of the marker\n",
    "        radius=Radius,\n",
    "        # Opacity of the circle\n",
    "        fill_opacity = Opacity,\n",
    "        # Sets the line color for the edge\n",
    "        color=LineColor,\n",
    "        # Width of the border line\n",
    "        line_weight=LineWidth,\n",
    "    ).add_to(Map)"
   ]
  },
  {
   "cell_type": "markdown",
   "metadata": {},
   "source": [
    "## Lets explore the idea of geocoding a bit more!\n",
    "\n",
    "* Geocoding requires specific information, otherwise, you may \"confuse\" the service\n",
    "\n",
    "* Surrey or Victoria are well known cities in BC, but if you search for them withouth specifying \"BC\", you'll end up with the bigger, more populous cities that share their name"
   ]
  },
  {
   "cell_type": "code",
   "execution_count": null,
   "metadata": {},
   "outputs": [],
   "source": [
    "# We can set the basemap to terrain\n",
    "ExampleMap = folium.Map(\n",
    "    location=[0,0],\n",
    "    zoom_start=2,\n",
    "    tiles='Stamen Terrain'\n",
    ")\n",
    "\n",
    "Surrey = geolocator.geocode('Surrey')\n",
    "plot_point(ExampleMap,Surrey.latitude,Surrey.longitude,'Surrey, UK','green')\n",
    "\n",
    "SurreyBC = geolocator.geocode('Surrey, BC')\n",
    "plot_point(ExampleMap,SurreyBC.latitude,SurreyBC.longitude,'Surrey, BC','yellow')\n",
    "\n",
    "Victoria = geolocator.geocode('Victoria')\n",
    "plot_point(ExampleMap,Victoria.latitude,Victoria.longitude,'Victoria, AU','blue')\n",
    "\n",
    "VictoriaBC = geolocator.geocode('Victoria, BC')\n",
    "plot_point(ExampleMap,VictoriaBC.latitude,VictoriaBC.longitude,'Victoria, BC','orange')\n",
    "\n",
    "ExampleMap"
   ]
  },
  {
   "cell_type": "markdown",
   "metadata": {},
   "source": [
    "# Step 5) Geocode the Police Violence Dataset?\n",
    "\n",
    "* This dataset has zipcodes, which are is a very specific identifier\n",
    "    * It also came with the street address of the incident, but I've removed that information to for privacy sake\n",
    "    \n",
    "    \n",
    "* We'll serach for each incident using the following search:\n",
    "    * City + polstal code + Provicne\n",
    "    \n",
    "* Some of our requests may fail! So we can try again with the city and province if so.\n",
    "    * We'll leave it blank and add a note saying Geocoding Failed."
   ]
  },
  {
   "cell_type": "code",
   "execution_count": null,
   "metadata": {},
   "outputs": [],
   "source": [
    "# We'll create empty columns for latitude & longitude\n",
    "# We'll create a \"notes\" column as well\n",
    "Police_Killings['latitude'] = np.nan\n",
    "Police_Killings['longitude'] = np.nan\n",
    "Police_Killings['geocoding_Notes'] = ''\n",
    "\n",
    "i = 0\n",
    "# iterrows() allows us to loop through row by row\n",
    "for index, row in Police_Killings.iterrows():\n",
    "    # try statements let us attempt something.\n",
    "    try:\n",
    "        # ' '.join() concatenates the records with spaces between\n",
    "        attempt = ' '.join([row['city_town'], row['prov'], row['postal_code'],'Canada'])\n",
    "        \n",
    "        # Progress report\n",
    "        if i % 25 == 0:\n",
    "            clear_output()\n",
    "            print(\"PROGRESS: {} out of {}. Currently at: {}\".format(i, len(Police_Killings), row['id_incident']))\n",
    "        \n",
    "        # We'll querry the geocoder.  We'll set timeout to 3 seconds so it has ample time for each query\n",
    "        g = geolocator.geocode(attempt,timeout=3)\n",
    "        Police_Killings.loc[Police_Killings['id_incident']==row['id_incident'],\n",
    "                    ['latitude','longitude']]=g.latitude,g.longitude\n",
    "    # if the try fails, we get an exception\n",
    "    # We can tell it to add to the geocoding notes and pass to the next row\n",
    "    except:\n",
    "        Police_Killings.loc[Police_Killings['postal_code']==row['postal_code'],\n",
    "                    'geocoding_Notes']='Geocoding Failed'\n",
    "        pass\n",
    "    i += 1\n",
    "print('Geocoding Done')\n"
   ]
  },
  {
   "cell_type": "markdown",
   "metadata": {},
   "source": [
    "# Step 6) Quality Control - How well did this work?\n",
    "\n",
    "* We'll plot the points by province and see if they end up in the right place.\n",
    "    * Maybe there were some typos during data entry."
   ]
  },
  {
   "cell_type": "code",
   "execution_count": null,
   "metadata": {},
   "outputs": [],
   "source": [
    "# Dictionary of province colors\n",
    "color_Scheme = {\n",
    "    'BC':'red',\n",
    "    'AB':'hotpink',\n",
    "    'SK':'orange',\n",
    "    'MB':'green',\n",
    "    'ON':'darkorange',\n",
    "    'QC':'blue',\n",
    "    'NB':'purple',\n",
    "    'NS':'yellow',\n",
    "    'NL':'white',\n",
    "    'PE':'black',\n",
    "    'YT':'teal',\n",
    "    'NU':'lime',\n",
    "    'NT':'cyan',\n",
    "}\n",
    "\n",
    "## We can set the basemap to a basic black and white\n",
    "CanadaMap = folium.Map(\n",
    "    location=[60,-95.5],\n",
    "    zoom_start=3,\n",
    "    tiles='Stamen Toner'\n",
    ")\n",
    "\n",
    "\n",
    "for index, row in Police_Killings.iterrows():\n",
    "    # if the geocoding didn't fail, we'll plot the point, colored by the province\n",
    "    if row['geocoding_Notes'] != 'Geocoding Failed':\n",
    "        plot_point(Map=CanadaMap,\n",
    "                   X=row['latitude'],\n",
    "                   Y=row['longitude'],\n",
    "                   Popup_Text=row['race']+' '+ row['gender'] + ' '+ str(row['age'])\\\n",
    "                     + ' '+ row['city_town'] + ' '+ row['prov']+ ' '+ row['postal_code'],\n",
    "                   Color=color_Scheme[row['prov']]\n",
    "                  )\n",
    "\n",
    "CanadaMap"
   ]
  },
  {
   "cell_type": "markdown",
   "metadata": {},
   "source": [
    "### Everything looks in order here.  Lets see if we had any failures?"
   ]
  },
  {
   "cell_type": "code",
   "execution_count": null,
   "metadata": {},
   "outputs": [],
   "source": [
    "Failures = (Police_Killings.loc[Police_Killings['geocoding_Notes']=='Geocoding Failed',\n",
    "                          ['prov','city_town','postal_code']])\n",
    "print(Failures)"
   ]
  },
  {
   "cell_type": "markdown",
   "metadata": {},
   "source": [
    "### Looks like maybe the slashes in the names threw they geodocer off?\n",
    "* Lets only search the city name before the slash and see if that fixes it!"
   ]
  },
  {
   "cell_type": "code",
   "execution_count": null,
   "metadata": {},
   "outputs": [],
   "source": [
    "for index, row in Police_Killings.loc[Police_Killings['geocoding_Notes']=='Geocoding Failed'].iterrows():\n",
    "    try:\n",
    "        attempt = ' '.join([row['city_town'].split('/')[0], row['prov'], row['postal_code'],'Canada'])\n",
    "        g = geolocator.geocode(attempt,timeout=6)\n",
    "        Police_Killings.loc[Police_Killings['id_incident']==row['id_incident'],\n",
    "                        ['latitude','longitude','city_town']]=g.latitude,g.longitude,row['city_town'].split('/')[0]\n",
    "        print('Fixed!!')\n",
    "    except:\n",
    "        print(\"Geocoding Still Failed :'(\")\n",
    "    "
   ]
  },
  {
   "cell_type": "markdown",
   "metadata": {},
   "source": [
    "# Step 7) Saving the Data"
   ]
  },
  {
   "cell_type": "code",
   "execution_count": null,
   "metadata": {},
   "outputs": [],
   "source": [
    "# The .to_csv() function will allow us to save data to a specific location\n",
    "Police_Killings.to_csv('Data/PoliceKillings.csv')\n",
    "print('Data Saved!')"
   ]
  },
  {
   "cell_type": "markdown",
   "metadata": {},
   "source": [
    "# Step 8) Importing vector data\n",
    "\n",
    "### In another workshop, we take the data we geocoded and combined it with provincial census data\n",
    "\n",
    "* This allowed us to calculate the Police Killing Rate (PKR) by province.\n",
    "\n",
    "### We saved this data as a shapefile.  We can import it using geopandas\n",
    "* Geopandas is a spatial extension for pandas that handles shapefiles"
   ]
  },
  {
   "cell_type": "code",
   "execution_count": null,
   "metadata": {},
   "outputs": [],
   "source": [
    "# the .read_file() function reads shapefiles\n",
    "Provincial_Data = gpd.read_file('Data/Provincial_Police_Violence.shp')\n",
    "print(Provincial_Data.crs)\n",
    "Provincial_Data.head()"
   ]
  },
  {
   "cell_type": "markdown",
   "metadata": {},
   "source": [
    "# Step 9) Converting Vector Data\n",
    "* Folium can't read shapefiles :(\n",
    "    * It needs the data to be in \"GeoJSON\" format to display on a webmap.\n",
    "        * GeoJSON is essentially a dictionary for geospatial data\n",
    "    * Geopandas allows us to save our data as a \"GeoJSON\"\n",
    "    \n",
    "* Also, WebMaps use the WGS 1984 Datum, EPSG: 4326\n",
    "    * Our shapefile is in Lambert Conformal Conic, EPSG: 3347\n",
    "    * We have to change the proection for it to display properly"
   ]
  },
  {
   "cell_type": "code",
   "execution_count": null,
   "metadata": {},
   "outputs": [],
   "source": [
    "# .to_crs()changes the coordinate system\n",
    "Provincial_Data = Provincial_Data.to_crs('EPSG:4326')\n",
    "# .to_file() saves our data to the specified format\n",
    "Provincial_Data.to_file(\"Data/Provincial_Police_Violence.json\", driver = \"GeoJSON\")\n",
    "print('Data Converted')"
   ]
  },
  {
   "cell_type": "markdown",
   "metadata": {},
   "source": [
    "# Step 10) Making Chloropleth Maps\n",
    "\n",
    "* We can use the GeoJSON files to plot chloroplet maps."
   ]
  },
  {
   "cell_type": "code",
   "execution_count": null,
   "metadata": {},
   "outputs": [],
   "source": [
    "CanadaMap2 = folium.Map(\n",
    "    location=[60,-91.5],\n",
    "    zoom_start=3,\n",
    ")\n",
    "\n",
    "# The .features.Chloropleth() function allows us to classify our data\n",
    "# We give function the location of our GeoJSON file\n",
    "\n",
    "folium.features.Choropleth('Data/Provincial_Police_Violence.json',\n",
    "                           # It will match the geometry data up with a pandas or geopandas dataframe\n",
    "                            data=Provincial_Data,\n",
    "                            columns=['prov','PKR'],\n",
    "                           # They key in the GeoJSON file to match by\n",
    "                            key_on='feature.properties.prov',\n",
    "                           # If we define bins, it will split where we tell it to\n",
    "                            bins = [0,1,2,4,10],\n",
    "                            fill_color='PuRd',\n",
    "                            fill_opacity = 1,\n",
    "                            smooth=2,\n",
    "                           # The layer name\n",
    "                            name='Police Killing Rate (PKR)',\n",
    "                           # The legend label\n",
    "                            legend_name='PKR per Year per Million Residents',\n",
    "                           # Whether it shows up by default or must be turned on with the legend\n",
    "                            show=False\n",
    "                          ).add_to(CanadaMap2)\n",
    "\n",
    "\n",
    "# colormap = cm.linear.PuRd_05.scale(Provincial_Data['Total_Kill'].min(), Provincial_Data['Total_Kill'].max())\n",
    "colormap = cm.LinearColormap(['yellow','red'])\n",
    "colormap = colormap.to_step(index=[Provincial_Data['Total_Kill'].min(),\n",
    "                                   Provincial_Data['Total_Kill'].quantile(.25),\n",
    "                                   Provincial_Data['Total_Kill'].quantile(.5), \n",
    "                                   Provincial_Data['Total_Kill'].quantile(.75), \n",
    "                                   Provincial_Data['Total_Kill'].max()],\n",
    "                           round_method =None)\n",
    "colormap.caption = 'Total Police Killings (2000-2017)'\n",
    "# colormap.caption = 'Police Killings/ Year / Million People (2000-2017)'\n",
    "colormap.add_to(CanadaMap2)\n",
    "\n",
    "folium.GeoJson(\n",
    "    'Data/Provincial_Police_Violence.json',\n",
    "    name='Provincial Police Killing Data',\n",
    "    smooth_factor=1.75,\n",
    "    style_function = lambda x:{'color':'black',\n",
    "                               \"weight\": 1,\n",
    "                               \"fillOpacity\": 1,\n",
    "                              'fillColor':colormap(x['properties']['Total_Kill'])\n",
    "                              },\n",
    "    tooltip=folium.features.GeoJsonTooltip(fields=['prov','PKR','PKDI','Total','Total_Kill'],\n",
    "                                           aliases=['Province','Police Killings / Million / Year',\n",
    "                                                    'Police Kiling Discrimiation Index','Total Population',\n",
    "                                                    'Total Police Killings']\n",
    "                                          )\n",
    ").add_to(CanadaMap2)\n",
    "\n",
    "\n",
    "folium.LayerControl().add_to(CanadaMap2)\n",
    "CanadaMap2"
   ]
  },
  {
   "cell_type": "markdown",
   "metadata": {},
   "source": [
    "# Step 11) Our Final Map\n",
    "\n",
    "* For our final map, we'll plot police killings by municipality.\n",
    "    * We'll scale each city by the total number of killings.\n",
    "    * We'll use html to create a popup table showing the racial breakdown of killings for each city\n",
    "\n"
   ]
  },
  {
   "cell_type": "code",
   "execution_count": null,
   "metadata": {},
   "outputs": [],
   "source": [
    "# Groupby accepts multiple queries.\n",
    "# We can use the .unstack() command to turn the last index into the columns (eg. column for each race)\n",
    "By_City = Police_Killings.groupby(['city_town','prov','race']).count()['id_incident'].unstack()\n",
    "# We can get use .first() to get the first lat/long record for each city\n",
    "By_City['latitude'] = Police_Killings.groupby(['city_town','prov']).first()['latitude']\n",
    "By_City['longitude'] = Police_Killings.groupby(['city_town','prov']).first()['longitude']\n",
    "By_City['geocoding_Notes']=Police_Killings.groupby(['city_town','prov']).first()['geocoding_Notes']\n",
    "\n",
    "# the .unique() function lets us get a list of each race\n",
    "Races = Police_Killings.race.unique()\n",
    "# We can the calculate the total killings per city\n",
    "By_City['Total'] = By_City[Races].sum(axis=1)\n",
    "\n",
    "# We'll sort and reset the index\n",
    "By_City = By_City.sort_values(by='Total',ascending=False).reset_index()\n",
    "\n",
    "print(By_City)"
   ]
  },
  {
   "cell_type": "markdown",
   "metadata": {},
   "source": [
    "## Any city that has more than one recrod, we'll geocode again and get the centerpoint (lat/long) of the city.\n"
   ]
  },
  {
   "cell_type": "code",
   "execution_count": null,
   "metadata": {},
   "outputs": [],
   "source": [
    "By_City['geocoding_Notes']=''\n",
    "i = 0\n",
    "for index, row in By_City.loc[By_City['Total']>1].iterrows():\n",
    "    try:\n",
    "        if i % 10 == 0:\n",
    "            clear_output()\n",
    "            print(\"PROGRESS: {} out of {}. Currently at: {}\".format(i, len(By_City.loc[By_City['Total']>1]), row['city_town']))\n",
    "        attempt = ' '.join([row['city_town'], row['prov'],'Canada'])\n",
    "        g = geolocator.geocode(attempt,timeout=3)\n",
    "        By_City.loc[By_City.index==index,\n",
    "                        ['latitude','longitude','city_town']]=g.latitude,g.longitude,row['city_town'].split('/')[0]\n",
    "    except:\n",
    "        By_City.loc[By_City.index==index,\n",
    "                        ['geocoding_Notes']]='Geocoding Failed'\n",
    "    i+=1"
   ]
  },
  {
   "cell_type": "markdown",
   "metadata": {},
   "source": [
    "# We'll plot our city points with a summary table in the popup box\n",
    "\n",
    "* We'll use html to make the table\n",
    "\n"
   ]
  },
  {
   "cell_type": "code",
   "execution_count": null,
   "metadata": {},
   "outputs": [],
   "source": [
    "Final_Map = folium.Map(\n",
    "    location=[60,-91.5],\n",
    "    zoom_start=3,\n",
    "    tiles='Stamen Toner'\n",
    ")\n",
    "\n",
    "group0 = folium.FeatureGroup(name='Police Killings by Municipality')\n",
    "for index, row in By_City.iterrows():\n",
    "    if row['geocoding_Notes'] != 'Geocoding Failed':\n",
    "        \n",
    "        # ''' indicates we're wrting multiline strings\n",
    "        # We'll write the header and the top row of the table\n",
    "        popuptext='''<body> <h2>'''+row['city_town']+'''</h2> \n",
    "                    <table style=\"width:100%\">\n",
    "                    <tr>\n",
    "                    <th>Race</th>\n",
    "                    <th>Number of Killings &nbsp </th>\n",
    "                    <th>Percentage of Total</th>\n",
    "                    </tr>\n",
    "                    '''\n",
    "        \n",
    "        # We'll sort each row by race so the largest appears at the top of the table\n",
    "        Sorted = row[Races].sort_values(ascending=False)\n",
    "        for i,v in zip(Sorted.index,Sorted.values):\n",
    "            if np.isnan(v)==False:\n",
    "                # If the value for a race exists, we'll add it to the table\n",
    "                popuptext+= '''<tr>\n",
    "                            <td>'''+i+''' &nbsp </td>\n",
    "                            <td>'''+str(v)+'''</td>\n",
    "                            <td>'''+str(int(v/row['Total']*100))+'''%</td>\n",
    "                            </tr>'''\n",
    "        # We'll add row at the bottom of the table with the total\n",
    "        popuptext+='''<tr>\n",
    "                      <th>Total </th>\n",
    "                      <th>'''+str(row['Total'])+'''</th>\n",
    "                      <th> </th>\n",
    "                      </tr>'''\n",
    "        \n",
    "        # We'll convert the text tot html\n",
    "        test = folium.Html(popuptext, script=True)\n",
    "        \n",
    "        # This defines the parameters for the popup text box\n",
    "        popup = folium.Popup(test, max_width=400,min_width=300)\n",
    "        \n",
    "        # Now we can send the popup to the CircleMarker\n",
    "        plot_point(Map=group0,\n",
    "                   X=row['latitude'],\n",
    "                   Y=row['longitude'],\n",
    "                   Popup_Text=popup,\n",
    "                   # This is hexcode for the official red of Canada\n",
    "                   Color='#FF0000',\n",
    "                   # We'll scale the radius by the number of killings + 2\n",
    "                   Radius=row['Total']+2,\n",
    "                  )\n",
    "group0.add_to(Final_Map)\n",
    "    \n",
    "    \n",
    "folium.LayerControl().add_to(Final_Map)\n",
    "    \n",
    "Final_Map"
   ]
  },
  {
   "cell_type": "markdown",
   "metadata": {},
   "source": [
    "\n",
    "# Step 12) Save the map\n",
    "\n",
    "* Saving as a .html file allows us to share the map and embed it in webpages.\n",
    "\n"
   ]
  },
  {
   "cell_type": "code",
   "execution_count": null,
   "metadata": {},
   "outputs": [],
   "source": [
    "Final_Map.save('PoliceViolenceIncidents.html')\n",
    "print('Map Saved!')"
   ]
  }
 ],
 "metadata": {
  "kernelspec": {
   "display_name": "Python 3",
   "language": "python",
   "name": "python3"
  },
  "language_info": {
   "codemirror_mode": {
    "name": "ipython",
    "version": 3
   },
   "file_extension": ".py",
   "mimetype": "text/x-python",
   "name": "python",
   "nbconvert_exporter": "python",
   "pygments_lexer": "ipython3",
   "version": "3.8.6"
  }
 },
 "nbformat": 4,
 "nbformat_minor": 4
}
