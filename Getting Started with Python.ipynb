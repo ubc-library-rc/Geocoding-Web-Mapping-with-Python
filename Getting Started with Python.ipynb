{
 "cells": [
  {
   "cell_type": "markdown",
   "metadata": {},
   "source": [
    "# Getting Started with Python\n",
    "\n",
    "## Import Statements\n",
    "\n",
    "Python has a number of built in functionality, but many of the most useful tools and functions come require us to [import](https://docs.python.org/3/reference/simple_stmts.html#import) modules.\n",
    "\n",
    "* Modules are pre-written blocks of code, sometimes referred to as packages or libraries.\n",
    "* They are built for addressing specific tasks: e.g. linear algebra, mapping, plotting.\n",
    "\n",
    "We're importing:\n",
    "* [numpy](https://numpy.org/)\n",
    "* [pandas](https://pandas.pydata.org/)\n",
    "* [matplotlib](https://matplotlib.org/)"
   ]
  },
  {
   "cell_type": "code",
   "execution_count": null,
   "metadata": {
    "scrolled": false
   },
   "outputs": [],
   "source": [
    "import numpy as np\n",
    "import pandas as pd\n",
    "import scipy.stats as stats\n",
    "import matplotlib.pyplot as plt\n",
    "# This allows us to create interactive plots with matplotlib\n",
    "%matplotlib notebook"
   ]
  },
  {
   "cell_type": "markdown",
   "metadata": {},
   "source": [
    "# Step 2) Importing our data\n",
    "\n",
    "* We'll use a Pandas to import three .csv files using the .read_csv() function to load them as \"DataFrames\"\n",
    "    * We can set the header, automatically interpret dates, an set our table indexes"
   ]
  },
  {
   "cell_type": "code",
   "execution_count": null,
   "metadata": {
    "scrolled": false
   },
   "outputs": [],
   "source": [
    "# incident.csv contains postal code of the incident, province, municipality, along with the date and incident ID\n",
    "Incident = pd.read_csv(\n",
    "    'Data/incident.csv',\n",
    "    delimiter = ',',\n",
    "    header = 0,\n",
    "    parse_dates=['date'],\n",
    "    index_col=['id_incident']\n",
    ")\n",
    "\n",
    "# victim.csv contains information on the victms including age, race, etc.\n",
    "Victim = pd.read_csv(\n",
    "    'Data/victim.csv',\n",
    "    delimiter = ',',\n",
    "    header = 0, \n",
    "    index_col=['id_incident']\n",
    ")\n",
    "\n",
    "#police.csv contaisn information about the police department and oficer involved\n",
    "Police = pd.read_csv(\n",
    "    'Data/police.csv',\n",
    "    delimiter = ',',\n",
    "    header = 0, \n",
    "    index_col=['id_incident']\n",
    ")\n",
    "print('Data Loaded.')"
   ]
  },
  {
   "cell_type": "markdown",
   "metadata": {},
   "source": [
    "# Step 3) Joining all our data\n",
    "\n",
    "* The three files share the same index \"id_incident\"\n",
    "    * We can use this unique identifier to combine all our files into one.\n",
    "* Then we can set the date as the index."
   ]
  },
  {
   "cell_type": "code",
   "execution_count": null,
   "metadata": {},
   "outputs": [],
   "source": [
    "# First we'll join the incident and the victim records\n",
    "Join_1 = Incident.join(Victim)\n",
    "# Then we'll join the the police record\n",
    "Join_2 = Join_1.join(Police)\n",
    "\n",
    "# Resetting the index first allows us to keep 'id_incident'.\n",
    "# We can call set_index('date') to set the date as the index.\n",
    "# Setting drop to true, means that 'date' won't be duplicated as a column\n",
    "PID_Canada = Join_2.reset_index().set_index('date',drop = True)\n",
    "\n",
    "# Caling .columns function will give us all the column headers\n",
    "print(PID_Canada.columns)\n",
    "\n",
    "# Calling .head() will print the first 5 rows\n",
    "PID_Canada.head()\n"
   ]
  },
  {
   "cell_type": "markdown",
   "metadata": {},
   "source": [
    "# Step 4) Exploring the data\n",
    "\n",
    "* Pandas has special functions\n",
    "    * We can count, and summarize different variables\n",
    "\n",
    "* We can quickly calculate statistics like averages or resample by a specific interval (e.g. Yearly) \n",
    "* We can use matplotlib.pyplot (plt) to display our information"
   ]
  },
  {
   "cell_type": "code",
   "execution_count": null,
   "metadata": {
    "scrolled": false
   },
   "outputs": [],
   "source": [
    "print('Number of Incidents: ',PID_Canada['id_incident'].count())\n",
    "print('Descriptive Statistics Age: \\n', PID_Canada['age'].describe())\n",
    "print()\n",
    "\n",
    "# Resample will aggregate the data over a given time interval\n",
    "# 'Y' specifes we want years.  If you wanted monthly, you'd do 'M'\n",
    "# .count() specifies how to aggregate.  If you have numeric data you can use .mean(), .std() etc. instead\n",
    "# with text, you're limited to .count(), .first(), .last()\n",
    "Yearly = PID_Canada.resample('Y').count()\n",
    "\n",
    "## The linregress() function calcualtes a linear regression between the year and the number of killings\n",
    "LR = stats.linregress(Yearly.index.year,Yearly['id_incident'])\n",
    "print(LR)\n",
    "\n",
    "# We can create a figure size 5x4\n",
    "plt.figure(figsize=(5,4))\n",
    "\n",
    "# .scatter() allows us to plot points\n",
    "plt.scatter(Yearly.index.year,\n",
    "            Yearly['id_incident'],\n",
    "           color='black')\n",
    "\n",
    "# .plots() allows us to plot lines\n",
    "plt.plot(Yearly.index.year,\n",
    "         Yearly.index.year*LR[0]+LR[1],\n",
    "         color='red',\n",
    "         label='Trendline: '+str(np.round(LR[0],2))+'\\np = '+str(np.round(LR[3],3)))\n",
    "\n",
    "# We can set some specifics here.\n",
    "plt.title('Police Killings by Year in Canada')\n",
    "plt.xlabel('Year')\n",
    "plt.ylabel('Total')\n",
    "\n",
    "# Calling .legend() will display all entites we set a label for\n",
    "plt.legend()\n",
    "\n",
    "# .tight_layout() allows us to make sure things fit nicely\n",
    "plt.tight_layout()"
   ]
  },
  {
   "cell_type": "markdown",
   "metadata": {},
   "source": [
    "### We can also aggregate using .groupby()\n",
    "\n",
    "* This lets us conduct specific queries like:\n",
    "    * ### What type of weapon did the victim have?"
   ]
  },
  {
   "cell_type": "code",
   "execution_count": null,
   "metadata": {},
   "outputs": [],
   "source": [
    "# .groupby() accepts one or more records to aggregate by\n",
    "# .count() tells us how to aggregate\n",
    "Armed = PID_Canada.groupby(['armed_type']).count()\n",
    "\n",
    "plt.figure(figsize=(7,4))\n",
    "\n",
    "# .pie() creates a pie chart\n",
    "plt.pie(\n",
    "    Armed['id_victim'],\n",
    "    labels=Armed.index,\n",
    "    textprops={'fontsize': 8},\n",
    "    autopct='%1.1f%%',\n",
    "    wedgeprops={\"edgecolor\":\"k\",'linewidth': 1, 'linestyle': 'dashed'}\n",
    ")\n",
    "plt.title('Police Killings: Was the Victim Armed?')\n",
    "plt.tight_layout()\n"
   ]
  },
  {
   "cell_type": "markdown",
   "metadata": {},
   "source": [
    "### Lets make these categories easier to interpret\n",
    "* We can create a dictionary define the replacements we want to make\n",
    "* We can use some of pandas special functions to query and manipulate our data\n",
    "    * The .loc[] function allows us to search for records\n",
    "    * The .replace () function lets us replace values"
   ]
  },
  {
   "cell_type": "code",
   "execution_count": null,
   "metadata": {},
   "outputs": [],
   "source": [
    "# Dictionaries use keys (eg. 'Vehicle') an values (eg. 'Other weapon')\n",
    "# They let us quickly look up values by a key\n",
    "replace_dict = {\n",
    "    'Air gun, replica gun':'Other weapons',\n",
    "    'Bat, club, other swinging object':'Other weapons',\n",
    "    'Vehicle':'Other weapons',\n",
    "    'Knife, axe, other cutting instruments':'Knife',\n",
    "    'Unknown':'None'\n",
    "          }\n",
    "\n",
    "# We can loop through te keys in the dictionary and use them to replace the disired values\n",
    "# .loc[] is a search command that allows us to perform specific querries\n",
    "# we can use it in combination with an equal sign (=) to replace values for a given column(s)\n",
    "for r in replace_dict.keys():\n",
    "    PID_Canada.loc[PID_Canada['armed_type']==r,'armed_type']=replace_dict[r]\n",
    "        \n",
    "        \n",
    "# Just making the same pic graph again\n",
    "plt.figure(figsize=(6,4))\n",
    "Armed = PID_Canada.groupby(['armed_type']).count()\n",
    "plt.pie(\n",
    "    Armed['id_victim'],\n",
    "    labels=Armed.index,\n",
    "    textprops={'fontsize': 8},\n",
    "    autopct='%1.1f%%',\n",
    "    wedgeprops={\"edgecolor\":\"k\",'linewidth': 1, 'linestyle': 'dashed'}\n",
    ")\n",
    "plt.title('Police Killings: Was the Victim Armed?')\n",
    "plt.tight_layout()"
   ]
  },
  {
   "cell_type": "markdown",
   "metadata": {},
   "source": [
    "### We can also make multiple plots together"
   ]
  },
  {
   "cell_type": "code",
   "execution_count": null,
   "metadata": {
    "scrolled": false
   },
   "outputs": [],
   "source": [
    "fig,ax= plt.subplots(2,1,figsize=(8,4))\n",
    "\n",
    "# Groupby allows us to search fo multiple records\n",
    "Force = PID_Canada.groupby(['Department','armed_type']).count()['id_victim']#.sort_values(ascending=True)\n",
    "\n",
    "Force=Force.unstack()\n",
    "col = Force.columns\n",
    "# Force['Total']=Force.sum(axis=1)\n",
    "# for c in col:\n",
    "#     Force[c] /= Force['Total']\n",
    "\n",
    "# Force = Force.sort_values(by='Total',ascending=False)#\n",
    "# print(Force)\n",
    "Force = Force.loc[Force['None']>1].sort_values(by='None')[-5:]\n",
    "\n",
    "# Force = PID_Canada.groupby('Department').count()['id_victim'].sort_values(ascending=True)\n",
    "ax[0].barh(Force.index,Force['None'],facecolor='#FF0000',edgecolor='black')\n",
    "ax[0].set_title('Departments Killing the Most Unarmed People')\n",
    "\n",
    "\n",
    "Charges = PID_Canada.loc[PID_Canada['armed_type']=='None'].groupby('Charges').count()\n",
    "ax[1].pie(\n",
    "    Charges['id_victim'],\n",
    "    labels=Charges.index,\n",
    "    textprops={'fontsize': 8},\n",
    "    autopct='%1.1f%%',\n",
    "    wedgeprops={\"edgecolor\":\"k\",'linewidth': 1, 'linestyle': 'dashed'}\n",
    ")\n",
    "ax[1].set_title('Was the Officer Charged for killing an unarmed person?')\n",
    "\n",
    "\n",
    "plt.tight_layout()"
   ]
  },
  {
   "cell_type": "markdown",
   "metadata": {},
   "source": [
    "### To look at the racial data, we need to normalize first\n",
    "* Canada is predominately white, we have to scale each group by the size of their population to calculate a police killing rate\n",
    "    * We want calculate the Police Killing Rate per Million Residents per Year for White, Black, and Indigenous people.\n",
    "    * What should we use as the scale factor?\n",
    "        * Hint the dataset spans the years 2000 to 2017\n",
    "    "
   ]
  },
  {
   "cell_type": "code",
   "execution_count": null,
   "metadata": {
    "scrolled": false
   },
   "outputs": [],
   "source": [
    "Race=['Caucasian','Black','Indigenous']\n",
    "Population=[25803368,1198545,1673780]\n",
    "\n",
    "scale = 1e6/18\n",
    "\n",
    "Count = PID_Canada.groupby('race')['id_incident'].count()\n",
    "\n",
    "plt.figure()\n",
    "\n",
    "i=0\n",
    "for race,population in (zip(Race,Population)):\n",
    "    if race == 'Total Population':\n",
    "        rate=((Count.sum()/population)*scale)\n",
    "    else:\n",
    "        rate=((Count[race]/population)*1e6/18)\n",
    "    plt.barh(i,rate,color='#FF0000',edgecolor='black')\n",
    "    i += 1\n",
    "plt.yticks([0,1,2],Race)\n",
    "plt.title('Police Killing Rates by Race')\n",
    "plt.xlabel('Killing/Year/Million People')\n",
    "plt.tight_layout()\n",
    "    \n",
    "print(PID_Canada.index.year.unique().shape)#.count())"
   ]
  },
  {
   "cell_type": "markdown",
   "metadata": {},
   "source": [
    "# Step 5 Saving Data\n",
    "\n",
    "* We can save our data easily using the [.tocsv()](https://pandas.pydata.org/docs/reference/api/pandas.DataFrame.to_csv.html) function\n",
    "\n"
   ]
  },
  {
   "cell_type": "code",
   "execution_count": null,
   "metadata": {},
   "outputs": [],
   "source": [
    "PID_Canada.to_csv('Data/PID_Canada.csv')\n",
    "print('Data Saved')\n",
    "print(PID_Canada)"
   ]
  }
 ],
 "metadata": {
  "kernelspec": {
   "display_name": "Python 3",
   "language": "python",
   "name": "python3"
  },
  "language_info": {
   "codemirror_mode": {
    "name": "ipython",
    "version": 3
   },
   "file_extension": ".py",
   "mimetype": "text/x-python",
   "name": "python",
   "nbconvert_exporter": "python",
   "pygments_lexer": "ipython3",
   "version": "3.8.6"
  }
 },
 "nbformat": 4,
 "nbformat_minor": 4
}
