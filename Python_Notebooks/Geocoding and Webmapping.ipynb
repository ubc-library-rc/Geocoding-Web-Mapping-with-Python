{
 "cells": [
  {
   "cell_type": "markdown",
   "metadata": {},
   "source": [
    "# Geocoding and Web Mapping\n",
    "\n",
    "Getting Started with Python\n",
    "\n",
    "## Import statements\n",
    "\n",
    "We are going to use [geopy](https://geopy.readthedocs.io/en/stable/) to interface with the mapbox geocoder and the [folium](http://python-visualization.github.io/folium/) to create some simple webmaps."
   ]
  },
  {
   "cell_type": "code",
   "execution_count": null,
   "metadata": {},
   "outputs": [],
   "source": [
    "from geopy.geocoders import MapBox\n",
    "import folium\n",
    "print('Import Successful')"
   ]
  },
  {
   "cell_type": "markdown",
   "metadata": {},
   "source": [
    "## Using the geocoder\n",
    "First, you must find your [access token](https://account.mapbox.com/access-tokens/).  Copy and paste it into the code below."
   ]
  },
  {
   "cell_type": "code",
   "execution_count": null,
   "metadata": {},
   "outputs": [],
   "source": [
    "access_token=\"\"\n",
    "\n",
    "if access_token == \"\":\n",
    "    print('Enter your access token to continue')\n",
    "else:\n",
    "    geolocator = MapBox(api_key=access_token)\n",
    "    print('Mapbox Goelocator Loaded')"
   ]
  },
  {
   "cell_type": "markdown",
   "metadata": {},
   "source": [
    "## A quick test\n",
    "\n",
    "Lets try a simple example first!  Type any address here and see what comes up!"
   ]
  },
  {
   "cell_type": "code",
   "execution_count": null,
   "metadata": {
    "scrolled": true
   },
   "outputs": [],
   "source": [
    "Location = \"1984 West Mall Vancouver BC\"\n",
    "UBC_Geography = geolocator.geocode(Location)\n",
    "\n",
    "print(UBC_Geography)\n",
    "print(UBC_Geography.latitude,UBC_Geography.longitude)"
   ]
  },
  {
   "cell_type": "markdown",
   "metadata": {},
   "source": [
    "## Displaying our result on a web map"
   ]
  },
  {
   "cell_type": "code",
   "execution_count": null,
   "metadata": {
    "scrolled": false
   },
   "outputs": [],
   "source": [
    "Map1 = folium.Map(\n",
    "    location=[UBC_Geography.latitude,UBC_Geography.longitude],\n",
    "    zoom_start=11,\n",
    ")\n",
    "\n",
    "point=folium.CircleMarker(\n",
    "        location=[UBC_Geography.latitude,UBC_Geography.longitude],\n",
    "        radius=10,\n",
    "        popup='UBC Geography',\n",
    "        fill_opacity = 1,\n",
    "        fill=True,\n",
    "        color='black',\n",
    "        line_weight=.35,\n",
    "        fill_color='blue'\n",
    ")\n",
    "\n",
    "point.add_to(Map1)\n",
    "\n",
    "Map1"
   ]
  },
  {
   "cell_type": "markdown",
   "metadata": {},
   "source": [
    "## Chaning our basemap and zoom level"
   ]
  },
  {
   "cell_type": "code",
   "execution_count": null,
   "metadata": {},
   "outputs": [],
   "source": [
    "Map2 = folium.Map(\n",
    "    location=[UBC_Geography.latitude,UBC_Geography.longitude],\n",
    "    zoom_start=3,\n",
    "    tiles='Stamen Terrain'\n",
    ")\n",
    "\n",
    "point.add_to(Map2)\n",
    "\n",
    "Map2"
   ]
  },
  {
   "cell_type": "markdown",
   "metadata": {},
   "source": [
    "## Using Mapbox satelite tiles\n",
    "\n",
    "You can use your Mapbox account to access their satellite basemap layer."
   ]
  },
  {
   "cell_type": "code",
   "execution_count": null,
   "metadata": {},
   "outputs": [],
   "source": [
    "tileurl = 'https://api.mapbox.com/v4/mapbox.satellite/{z}/{x}/{y}@2x.png?access_token=' + str(access_token)\n",
    "Map3 = folium.Map(location=[UBC_Geography.latitude,UBC_Geography.longitude],\n",
    "                 zoom_start=12,\n",
    "                 tiles=tileurl, \n",
    "                 attr='Mapbox')\n",
    "\n",
    "point.add_to(Map3)\n",
    "\n",
    "Map3"
   ]
  },
  {
   "cell_type": "markdown",
   "metadata": {},
   "source": [
    "## Using functions to avoid repetition\n",
    "\n",
    "If we have multiple points to map, it would be redundant to type out the same command repeatedly.  We can create a [function](https://www.w3schools.com/python/python_functions.asp) to take some inputs and repeat the task for us."
   ]
  },
  {
   "cell_type": "code",
   "execution_count": null,
   "metadata": {},
   "outputs": [],
   "source": [
    "# \"def\" defines our function \"plot_point()\", which takes five \"arguments\":\n",
    "    # Map: The map you're working with\n",
    "    # X & Y: lattitude & longitude\n",
    "    # Popup_Text: What do we want the popup to say?\n",
    "    # Color: We'll set a defualt, but we can override with what colour do we want\n",
    "        # Everything else will remain the same for every point, so we can set them as default values\n",
    "    # Defaults can be over written by assigning them anoter value\n",
    "def plot_point(Map,X,Y,Popup_Text,Color='red',Radius=5,Opacity=.75,LineColor='black',LineWidth=.15):\n",
    "    folium.CircleMarker(\n",
    "        # The coordiatnates\n",
    "        location=[X,Y],\n",
    "        # Text description\n",
    "        popup=Popup_Text,\n",
    "        # sets the fill color for the point\n",
    "        fill_color=Color,\n",
    "        # Size of the marker\n",
    "        radius=Radius,\n",
    "        # Opacity of the circle\n",
    "        fill_opacity = Opacity,\n",
    "        # Sets the line color for the edge\n",
    "        color=LineColor,\n",
    "        # Width of the border line\n",
    "        line_weight=LineWidth,\n",
    "    ).add_to(Map)\n",
    "    \n",
    "Map4 = folium.Map(\n",
    "location=[0,0],\n",
    "zoom_start=2,\n",
    ")\n",
    "\n",
    "for city in ['Cairo EG','London UK','Toronto CA','Sao Palo BR']:\n",
    "    Result = geolocator.geocode(city)\n",
    "    point = plot_point(Map4,Result.latitude,Result.longitude,city)\n",
    "\n",
    "\n",
    "Map4"
   ]
  },
  {
   "cell_type": "markdown",
   "metadata": {},
   "source": [
    "## Reverse geocoding\n",
    "\n",
    "You can also go \"backwards\", starting with coordinates and getting an address *provided its somewhere with an address*\n",
    "\n",
    "The second query returns \"None\"\n",
    "\n",
    "* Any ideas why?"
   ]
  },
  {
   "cell_type": "code",
   "execution_count": null,
   "metadata": {},
   "outputs": [],
   "source": [
    "Location = ['49.265646','-123.256218']\n",
    "Reverse_1 = geolocator.reverse(Location)\n",
    "print(Reverse_1)\n",
    "\n",
    "# Note the different latitude\n",
    "Location = ['-49.265646','-123.256218']\n",
    "Reverse_2 = geolocator.reverse(Location)\n",
    "print(Reverse_2)"
   ]
  },
  {
   "cell_type": "markdown",
   "metadata": {},
   "source": [
    "## Watch out for typos\n",
    "\n",
    "The functionality is fairly robust, but typos can cause errors in your results"
   ]
  },
  {
   "cell_type": "code",
   "execution_count": null,
   "metadata": {},
   "outputs": [],
   "source": [
    "Map5 = folium.Map(location=[UBC_Geography.latitude,UBC_Geography.longitude],\n",
    "                 zoom_start=14,\n",
    "                 tiles=tileurl, \n",
    "                 attr='Mapbox')\n",
    "\n",
    "for typo in [\"2710 Fraser St. Vancouver BC V5P 3V4\",\n",
    "             \"2711 Fraser St. Vancouver BC V5T 3V7\",\n",
    "             \"2710 Faster Vancouver DC\"]:\n",
    "    UBC_Geography = geolocator.geocode(typo)\n",
    "\n",
    "    point = plot_point(Map5,UBC_Geography.latitude,UBC_Geography.longitude,UBC_Geography)\n",
    "\n",
    "    print('Search Term: ', typo)\n",
    "    print('Result: ', UBC_Geography)\n",
    "    print()\n",
    "\n",
    "Map5"
   ]
  },
  {
   "cell_type": "markdown",
   "metadata": {},
   "source": [
    "## A Note on Ambiguity\n",
    "\n",
    "**Ambiguity**: the quality of being open to more than one interpretation; inexactness.\n",
    "\n",
    "It is important to be specific when submitting queries.  The more information the geocoder has to work with, the more accurate your result."
   ]
  },
  {
   "cell_type": "code",
   "execution_count": null,
   "metadata": {},
   "outputs": [],
   "source": [
    "ExampleMap = folium.Map(\n",
    "    location=[0,0],\n",
    "    zoom_start=2,\n",
    "    tiles='Stamen Toner'\n",
    ")\n",
    "\n",
    "for search in ['Surrey','Surrey BC','Victoria','Victoria BC']:\n",
    "    UBC_Geography = geolocator.geocode(search)\n",
    "    plot_point(ExampleMap,UBC_Geography.latitude,UBC_Geography.longitude,UBC_Geography,Radius=15)\n",
    "    print('Search Term: ', UBC_Geography)\n",
    "    print('Result: ', UBC_Geography)\n",
    "    print()\n",
    "    \n",
    "ExampleMap"
   ]
  },
  {
   "cell_type": "markdown",
   "metadata": {},
   "source": [
    "# Plotting Polygons\n",
    "\n",
    "## Importing and Reformatting a Shapefile\n",
    "\n",
    "- Below is a .zip file of census sub-divisions from Simply Analytics.\n",
    "- We need to unzip it and inspect the metadata"
   ]
  },
  {
   "cell_type": "code",
   "execution_count": null,
   "metadata": {},
   "outputs": [],
   "source": [
    "import zipfile\n",
    "import pandas as pd\n",
    "Shape_file='SimplyAnalytics_Shapefiles_2021-11-07_04_12_18_e28bde0952164f8aa648e288cab05f1b'\n",
    "with zipfile.ZipFile('data/'+Shape_file+'.zip', 'r') as zip_ref:\n",
    "    zip_ref.extractall('data/Census/')\n",
    "# print()\n",
    "meta_data = pd.read_csv('data/Census/variable_names.txt',header=None,sep='#')\n",
    "print(meta_data.values)"
   ]
  },
  {
   "cell_type": "markdown",
   "metadata": {},
   "source": [
    "## Reformat the shapefile\n",
    "\n",
    "Folium needs the data in a different format, known a as a geojson file.  We can convert the file with [geopandas](https://geopandas.org/en/stable/) after doing some calculations.  Geopandas is a spatial extension for pandas."
   ]
  },
  {
   "cell_type": "code",
   "execution_count": null,
   "metadata": {},
   "outputs": [],
   "source": [
    "import geopandas as gpd\n",
    "\n",
    "# the .read_file() function reads shapefiles\n",
    "BC_Sub_Div = gpd.read_file('data/Census/'+Shape_file+'.shp')\n",
    "print(BC_Sub_Div.crs)\n",
    "\n",
    "## Note - This is the terminology used by the census\n",
    "## It can be found in the variable_name file that comes with the download\n",
    "BC_Sub_Div = BC_Sub_Div.rename(columns={\n",
    "'VALUE0': 'Indigenous Identity',\n",
    "'VALUE1': 'Population',\n",
    "'VALUE2': 'Visible Minority'\n",
    "})\n",
    "\n",
    "BC_Sub_Div['Indigenous_Pct'] = (BC_Sub_Div['Indigenous Identity']/BC_Sub_Div['Population']*100).round(0)\n",
    "\n",
    "\n",
    "BC_Sub_Div=BC_Sub_Div.fillna(0)\n",
    "# .to_file() saves our data to the specified format\n",
    "print('data Converted')\n",
    "BC_Sub_Div.to_file(\"data/BC_Sub_Div.json\", driver = \"GeoJSON\")\n",
    "BC_Sub_Div.head()\n",
    "# BC_Sub_Div['Indigenous Identity'].describe()"
   ]
  },
  {
   "cell_type": "markdown",
   "metadata": {},
   "source": [
    "## Making a Choropleth Map\n",
    "\n",
    "Foium's [Choropleth](https://python-visualization.github.io/folium/quickstart.html#Choropleth-maps) allows us to quickly display color-coded polygons.\n"
   ]
  },
  {
   "cell_type": "code",
   "execution_count": null,
   "metadata": {},
   "outputs": [],
   "source": [
    "BC_coords = geolocator.geocode('BC, Canada')\n",
    "BC_Map = folium.Map(\n",
    "    location=[BC_coords.latitude,BC_coords.longitude],\n",
    "    zoom_start=5,\n",
    "    tiles='Stamen Toner'\n",
    ")\n",
    "\n",
    "\n",
    "folium.features.Choropleth('data/BC_Sub_Div.json',\n",
    "                           # It will match the geometry data up with a pandas or geopandas dataframe\n",
    "                            data=BC_Sub_Div,\n",
    "                            columns=['spatial_id','Indigenous_Pct'],\n",
    "                           # They key in the GeoJSON file to match by\n",
    "                            key_on='feature.properties.spatial_id',\n",
    "                           # If we define bins, it will split where we tell it to\n",
    "#                             bins = [0,10,20,55],\n",
    "                            fill_color='YlOrRd',\n",
    "                            fill_opacity = 1,\n",
    "                            smooth=2,\n",
    "                           # The layer name\n",
    "                            name='Indigenous Population %',\n",
    "                           # The legend label\n",
    "                            legend_name='Indigenous Population %',\n",
    "                           # Whether it shows up by default or must be turned on with the legend\n",
    "                            show=True\n",
    "                          ).add_to(BC_Map)\n",
    "\n",
    "\n",
    "folium.LayerControl().add_to(BC_Map)\n",
    "BC_Map"
   ]
  },
  {
   "cell_type": "markdown",
   "metadata": {},
   "source": [
    "# Adding a tool tip\n",
    "\n",
    "We can add a tooltip that allows us to display information when we hover over a polygon."
   ]
  },
  {
   "cell_type": "code",
   "execution_count": null,
   "metadata": {},
   "outputs": [],
   "source": [
    "import branca.colormap as cm\n",
    "\n",
    "\n",
    "BC_Map2 = folium.Map(\n",
    "    location=[BC_coords.latitude,BC_coords.longitude],\n",
    "    zoom_start=5,\n",
    "    tiles='Stamen Toner'\n",
    ")\n",
    "\n",
    "colormap = cm.LinearColormap(['#f5f8fa','#0f91f5'],\n",
    "                             vmin=BC_Sub_Div['Indigenous_Pct'].min(),\n",
    "                             vmax=BC_Sub_Div['Indigenous_Pct'].max())\n",
    "colormap = colormap.to_step(n=4)#\n",
    "colormap.caption = 'Indigenous Population  %'\n",
    "colormap.add_to(BC_Map2)\n",
    "\n",
    "folium.GeoJson(\n",
    "    'data/BC_Sub_Div.json',\n",
    "    name='Indigenous Population %',\n",
    "    smooth_factor=1.75,\n",
    "    style_function = lambda x:{'color':'black',\n",
    "                               \"weight\": 1,\n",
    "                               \"fillOpacity\": 1,\n",
    "                              'fillColor':colormap(x['properties']['Indigenous_Pct'])\n",
    "                              },\n",
    "    tooltip=folium.features.GeoJsonTooltip(fields=['Population',\n",
    "                                                   'Visible Minority',\n",
    "                                                   'Indigenous Identity',\n",
    "                                                   'Indigenous_Pct'],\n",
    "                                           aliases=['Total Population, 2021',\n",
    "                                                    'Visible Minority Population, 2021',\n",
    "                                                    'Indigineous Population, 2021',\n",
    "                                                    'Percent Indigineous, 2021',]\n",
    "                                          ),\n",
    "    show = True\n",
    ").add_to(BC_Map2)\n",
    "\n",
    "\n",
    "\n",
    "folium.LayerControl().add_to(BC_Map2)\n",
    "BC_Map2"
   ]
  },
  {
   "cell_type": "code",
   "execution_count": null,
   "metadata": {},
   "outputs": [],
   "source": []
  }
 ],
 "metadata": {
  "kernelspec": {
   "display_name": "geo-env",
   "language": "python",
   "name": "geo-env"
  },
  "language_info": {
   "codemirror_mode": {
    "name": "ipython",
    "version": 3
   },
   "file_extension": ".py",
   "mimetype": "text/x-python",
   "name": "python",
   "nbconvert_exporter": "python",
   "pygments_lexer": "ipython3",
   "version": "3.8.10"
  }
 },
 "nbformat": 4,
 "nbformat_minor": 4
}
