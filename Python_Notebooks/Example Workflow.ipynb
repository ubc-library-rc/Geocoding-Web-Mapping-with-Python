{
 "cells": [
  {
   "cell_type": "markdown",
   "metadata": {},
   "source": [
    "# Workflow\n",
    "\n",
    "## Import statements & function definitions\n",
    "\n",
    "In addition to geopy and folium, we're going to import a few more packages:\n",
    "* [geopandas](https://geopandas.org/) is a geospatial extension to pandas.\n",
    "* [branca](https://pypi.org/project/branca/) module to help us create some simple choropleth maps.\n",
    "* [ipywidgets](https://ipywidgets.readthedocs.io/en/latest/) to create a progress bar\n",
    "\n",
    "It is best practice to define our functions at the very beginning of our code, so we'll run the plot_point() function here."
   ]
  },
  {
   "cell_type": "code",
   "execution_count": null,
   "metadata": {},
   "outputs": [],
   "source": [
    "import folium\n",
    "import numpy as np\n",
    "import pandas as pd\n",
    "import geopandas as gpd\n",
    "import matplotlib.pyplot as plt\n",
    "import branca.colormap as cm\n",
    "from geopy.geocoders import MapBox\n",
    "from geopy.point import Point\n",
    "from ipywidgets import FloatProgress\n",
    "\n",
    "def plot_point(Map,X,Y,Popup_Text,Color='red',Radius=5,Opacity=.75,LineColor='black',LineWidth=.15):\n",
    "    folium.CircleMarker(\n",
    "        # The coordiatnates\n",
    "        location=[X,Y],\n",
    "        # Text description\n",
    "        popup=Popup_Text,\n",
    "        # sets the fill color for the point\n",
    "        fill_color=Color,\n",
    "        # Size of the marker\n",
    "        radius=Radius,\n",
    "        # Opacity of the circle\n",
    "        fill_opacity = Opacity,\n",
    "        # Sets the line color for the edge\n",
    "        color=LineColor,\n",
    "        # Width of the border line\n",
    "        line_weight=LineWidth,\n",
    "    ).add_to(Map)\n",
    "    \n",
    "print(\"Import Succesful\")"
   ]
  },
  {
   "cell_type": "markdown",
   "metadata": {},
   "source": [
    "## Enter your access token!\n",
    "First, you must find your [access token](https://account.mapbox.com/access-tokens/).  Copy and paste it into the code below.\n",
    "* If you get an error message here, it is because you didn't paste in the access token properly"
   ]
  },
  {
   "cell_type": "code",
   "execution_count": null,
   "metadata": {},
   "outputs": [],
   "source": [
    "access_token=\"pk.eyJ1IjoianVuZXNwYWNlYm9vdHMiLCJhIjoiY2twY3g4aXloMWFlcDJzbXN3aG95aG5uZiJ9.mFiJt0MIfL1MiJ2rB2xhKQ\"\n",
    "if access_token == \"\":\n",
    "    print('Enter your access token to continue')\n",
    "else:\n",
    "    geolocator = MapBox(api_key=access_token)\n",
    "    print('Mapbox Goelocator Loaded')"
   ]
  },
  {
   "cell_type": "markdown",
   "metadata": {},
   "source": [
    "## Importing the text data\n",
    "\n",
    "We'll use a Pandas to import the a .csv file, even if its stored in a remote location like a github repository."
   ]
  },
  {
   "cell_type": "code",
   "execution_count": null,
   "metadata": {},
   "outputs": [],
   "source": [
    "Dpath = 'https://raw.githubusercontent.com/Police-Involved-Deaths-CA/data/main/MostRecentUpdate/Police_Killings_and_Police_Inolved_Deaths.csv'\n",
    "PID_Canada = pd.read_csv(Dpath,\n",
    "                        parse_dates=['date'],\n",
    "                        ).set_index('date',drop = True)\n",
    "\n",
    "PID_Canada"
   ]
  },
  {
   "cell_type": "markdown",
   "metadata": {},
   "source": [
    "# Select Recent Deaths in BC"
   ]
  },
  {
   "cell_type": "code",
   "execution_count": null,
   "metadata": {},
   "outputs": [],
   "source": [
    "PID_BC = PID_Canada.loc[((PID_Canada['prov']=='BC')&\n",
    "                          (PID_Canada['prov'].index.year>=2016))].copy()\n",
    "\n",
    "PID_BC.groupby('cause_death').count()['INDEX'].sort_values()"
   ]
  },
  {
   "cell_type": "markdown",
   "metadata": {},
   "source": [
    "## Geocode the Locations\n",
    "\n",
    "This dataset has postal codes, which are is a very specific identifier.  It also came with the street address of the incident, but I've removed that information to for privacy sake. We'll search for each incident using the following search:\n",
    "* City + address + Province\n",
    "    \n",
    "We have to create some new columns to hold the new data (latitude and longitude).  Some of our requests may fail, so we'll create a geocoding_Notes column to denote failures."
   ]
  },
  {
   "cell_type": "code",
   "execution_count": null,
   "metadata": {},
   "outputs": [],
   "source": [
    "\n",
    "PID_BC['address_intersection']=PID_BC['address_intersection'].fillna(' ')#.str.replace(' of ',' ')\n",
    "PID_BC['latitude'] = np.nan\n",
    "PID_BC['longitude'] = np.nan\n",
    "PID_BC['geocoding_Notes'] = ''\n",
    "\n",
    "\n",
    "\n",
    "i = 0\n",
    "prog = FloatProgress(min=0, max=100,description='Progress:')\n",
    "prog.value=0\n",
    "display(prog)\n",
    "\n",
    "# iterrows() allows us to loop through row by row\n",
    "for index, row in PID_BC.iterrows():\n",
    "    # try statements let us attempt something.\n",
    "    try:\n",
    "        # ' '.join() concatenates the records with spaces between\n",
    "        attempt = ' '.join([row['address_intersection'],row['city_town'], row['prov']])\n",
    "\n",
    "        # We'll querry the geocoder.  We'll set timeout to 3 seconds so it has ample time for each query\n",
    "        g = geolocator.geocode(attempt,timeout=3,country='CA')\n",
    "        PID_BC.loc[PID_BC['id_victim']==row['id_victim'],\n",
    "                       ['latitude','longitude','geocoding_attempt']]=g.latitude,g.longitude,attempt\n",
    "        \n",
    "#     #if the try fails, we get an exception, we'll add to the geocoding notes and pass to the next row\n",
    "    except:\n",
    "        PID_BC.loc[PID_BC['id_victim']==row['id_victim'],\n",
    "                    ['geocoding_Notes','geocoding_attempt']]='Failed',attempt\n",
    "        pass\n",
    "    \n",
    "    ## Show the progress\n",
    "    i += 1\n",
    "    prog.value=i/len(PID_BC)*100\n",
    "    \n",
    "print('Geocoding Done.')\n",
    "print('Number of Failures: ',PID_BC.loc[PID_BC['geocoding_Notes']=='Failed','id_victim'].count())"
   ]
  },
  {
   "cell_type": "code",
   "execution_count": null,
   "metadata": {},
   "outputs": [],
   "source": [
    "BC_coords = geolocator.geocode('BC, Canada')\n",
    "\n",
    "\n",
    "## We can set the basemap to a basic black and white\n",
    "BCMap = folium.Map(\n",
    "    location=[BC_coords.latitude,BC_coords.longitude],\n",
    "    zoom_start=5,\n",
    "#     tiles='Stamen Toner'\n",
    ")\n",
    "\n",
    "PID_BC[['race','gender','age','city_town','prov','postal_code']]=PID_BC[['race','gender','age','city_town','prov','postal_code']].fillna('')\n",
    "for index, row in PID_BC.iterrows():\n",
    "    # if the geocoding didn't fail, we'll plot the point, colored by the province\n",
    "    if row['geocoding_Notes'] != 'Geocoding Failed':\n",
    "        plot_point(Map=BCMap,\n",
    "                   X=row['latitude'],\n",
    "                   Y=row['longitude'],\n",
    "                   Popup_Text=row['geocoding_attempt'],\n",
    "#                    Color=color_Scheme[row['prov']]\n",
    "                  )\n",
    "\n",
    "BCMap"
   ]
  },
  {
   "cell_type": "markdown",
   "metadata": {},
   "source": [
    "## Cluster Map\n",
    "\n",
    "* This type of map is useful for handling clusters of points, it will expand upon zooming to a location"
   ]
  },
  {
   "cell_type": "code",
   "execution_count": null,
   "metadata": {},
   "outputs": [],
   "source": [
    "from folium import plugins\n",
    "\n",
    "\n",
    "import numpy as np\n",
    "\n",
    "Van_coords = geolocator.geocode('Vancouver, BC, Canada')\n",
    "\n",
    "\n",
    "N = 100\n",
    "data = np.array(\n",
    "    [PID_BC.latitude.values,\n",
    "     PID_BC.longitude.values\n",
    "    ]\n",
    ").T\n",
    "popups = list(PID_BC.department.fillna('Missing').values)\n",
    "BCmap2 = folium.Map([Van_coords.latitude,Van_coords.longitude], zoom_start=7)\n",
    "\n",
    "plugins.MarkerCluster(data, popups=popups,\n",
    "                     ).add_to(BCmap2)\n",
    "\n",
    "BCmap2\n",
    "\n"
   ]
  },
  {
   "cell_type": "markdown",
   "metadata": {},
   "source": [
    "# Making a Choroplet and Adding Points"
   ]
  },
  {
   "cell_type": "code",
   "execution_count": null,
   "metadata": {},
   "outputs": [],
   "source": [
    "import branca.colormap as cm\n",
    "\n",
    "\n",
    "BC_Final_Map = folium.Map(\n",
    "    location=[Van_coords.latitude,Van_coords.longitude],\n",
    "    zoom_start=8,\n",
    "    tiles='Stamen Toner'\n",
    ")\n",
    "\n",
    "# colormap = cm.linear.PuRd_05.scale(BC_Sub_Div['Total Population, 2020'].min(), BC_Sub_Div['Total Population, 2020'].max())\n",
    "colormap = cm.LinearColormap(['#f5f8fa','#0f91f5'],\n",
    "                             vmin=0,\n",
    "                             vmax=17000)\n",
    "colormap = colormap.to_step(n=10)#\n",
    "colormap.caption = 'Total Population'\n",
    "colormap.add_to(BC_Final_Map)\n",
    "\n",
    "folium.GeoJson(\n",
    "    'data/BC_Sub_Div.json',\n",
    "    name='Total Population',\n",
    "    smooth_factor=1.75,\n",
    "    style_function = lambda x:{'color':'black',\n",
    "                               \"weight\": 1,\n",
    "                               \"fillOpacity\": 1,\n",
    "                              'fillColor':colormap(x['properties']['Population'])\n",
    "                              },\n",
    "    tooltip=folium.features.GeoJsonTooltip(fields=['Population',\n",
    "                                                   'Visible Minority',\n",
    "                                                   'Indigenous Identity',\n",
    "                                                   'Indigenous_Pct'],\n",
    "                                           aliases=['Total Population, 2021',\n",
    "                                                    'Visible Minority Population, 2021',\n",
    "                                                    'Indigineous Population, 2021',\n",
    "                                                    'Percent Indigineous, 2021',]\n",
    "                                          ),\n",
    "    show = True\n",
    ").add_to(BC_Final_Map)\n",
    "\n",
    "\n",
    "group = folium.FeatureGroup(name='Police Involved Deaths since 2016')\n",
    "for index, row in PID_BC.iterrows():\n",
    "    # if the geocoding didn't fail, we'll plot the point, colored by the province\n",
    "    if row['geocoding_Notes'] != 'Geocoding Failed':\n",
    "#         print(row['race'], row['gender'],str(row['age']))\n",
    "        plot_point(Map=group,\n",
    "                   X=row['latitude'],\n",
    "                   Y=row['longitude'],\n",
    "                   Popup_Text=str(row['race'])+' '+ str(row['gender']) + ' '+ str(row['age'])\n",
    "                     + ' '+ str(row['geocoding_attempt']),\n",
    "                   Color='red'#color_Scheme[row['prov']]\n",
    "                  )#.add_to(Toronto_Map)\n",
    "\n",
    "group.add_to(BC_Final_Map)\n",
    "\n",
    "folium.LayerControl().add_to(BC_Final_Map)\n",
    "BC_Final_Map"
   ]
  },
  {
   "cell_type": "markdown",
   "metadata": {},
   "source": [
    "## Saving the Map data"
   ]
  },
  {
   "cell_type": "code",
   "execution_count": null,
   "metadata": {},
   "outputs": [],
   "source": [
    "PID_BC.to_csv('data/PID_BC_Geocoded.csv')\n",
    "print('Geocoded data Saved')\n",
    "BC_Final_Map.save('../BC_Police_Involved_Deaths.html')\n",
    "print('Map Saved')"
   ]
  },
  {
   "cell_type": "code",
   "execution_count": null,
   "metadata": {},
   "outputs": [],
   "source": []
  }
 ],
 "metadata": {
  "kernelspec": {
   "display_name": "Python 3 (ipykernel)",
   "language": "python",
   "name": "python3"
  },
  "language_info": {
   "codemirror_mode": {
    "name": "ipython",
    "version": 3
   },
   "file_extension": ".py",
   "mimetype": "text/x-python",
   "name": "python",
   "nbconvert_exporter": "python",
   "pygments_lexer": "ipython3",
   "version": "3.9.7"
  }
 },
 "nbformat": 4,
 "nbformat_minor": 4
}
