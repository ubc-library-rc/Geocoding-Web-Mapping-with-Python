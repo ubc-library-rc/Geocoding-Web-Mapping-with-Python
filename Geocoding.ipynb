{
 "cells": [
  {
   "cell_type": "markdown",
   "metadata": {},
   "source": [
    "# Geocoding\n",
    "\n",
    "Getting Started with Python\n",
    "\n",
    "## Import statements\n",
    "\n",
    "We are going to use the [geopy](https://geopy.readthedocs.io/en/stable/) module to interface with the mapbox geocoder"
   ]
  },
  {
   "cell_type": "code",
   "execution_count": null,
   "metadata": {},
   "outputs": [],
   "source": [
    "from geopy.geocoders import MapBox"
   ]
  },
  {
   "cell_type": "markdown",
   "metadata": {},
   "source": [
    "## Using the geocoder\n",
    "First, you must find your [access token](https://account.mapbox.com/access-tokens/).  Copy and paste it into the code below."
   ]
  },
  {
   "cell_type": "code",
   "execution_count": null,
   "metadata": {},
   "outputs": [],
   "source": [
    "access_token=\"\"\n",
    "if access_token == \"\":\n",
    "    print('Enter your access token to continue')\n",
    "else:\n",
    "    geolocator = MapBox(api_key=access_token)\n",
    "    print('Mapbox Goelocator Loaded')"
   ]
  },
  {
   "cell_type": "markdown",
   "metadata": {},
   "source": [
    "## A quick test\n",
    "\n",
    "Lets try a simple example first!  Type any address here and see what comes up!"
   ]
  },
  {
   "cell_type": "code",
   "execution_count": null,
   "metadata": {},
   "outputs": [],
   "source": [
    "Location = \"2710 Fraser St. Vancouver BC\"\n",
    "Test_Point = geolocator.geocode(Location)\n",
    "\n",
    "print(Test_Point)\n",
    "print(Test_Point.latitude,Test_Point.longitude)"
   ]
  },
  {
   "cell_type": "markdown",
   "metadata": {},
   "source": [
    "## Reverse geocoding\n",
    "\n",
    "You can also go \"backwards\", starting with coordinates and getting an address *provided its somewhere with an address*"
   ]
  },
  {
   "cell_type": "code",
   "execution_count": null,
   "metadata": {},
   "outputs": [],
   "source": [
    "Location = ['49.260438','-123.088896']\n",
    "Test_Point = geolocator.reverse(Location)\n",
    "print(Test_Point)\n",
    "\n",
    "# Note the different latitude\n",
    "Location = ['-49.260438','-123.088896']\n",
    "Test_Point = geolocator.reverse(Location)\n",
    "print(Test_Point)"
   ]
  },
  {
   "cell_type": "markdown",
   "metadata": {},
   "source": [
    "## A note of caution"
   ]
  },
  {
   "cell_type": "code",
   "execution_count": null,
   "metadata": {},
   "outputs": [],
   "source": [
    "for search in ['Surrey','Surrey BC','Victoria','Victoria BC']:\n",
    "\n",
    "    Test_Point = geolocator.geocode(search)\n",
    "    print('Search Term: ', city)\n",
    "    print('Result: ', Test_Point)\n",
    "    print()\n",
    "    "
   ]
  },
  {
   "cell_type": "markdown",
   "metadata": {},
   "source": [
    "## Watch out for typos\n",
    "\n",
    "The functionality is fairly robust, but typos can cause errors in your results"
   ]
  },
  {
   "cell_type": "code",
   "execution_count": null,
   "metadata": {},
   "outputs": [],
   "source": [
    "for typo in [\"2710 Frazer St. Vancouver BC\",\n",
    "             \"2710 Fraser St. Vancouver BC V5P 3V4\",\n",
    "             \"2711 Fraser St. Vancouver BC V5T 3V7\",\n",
    "             \"2710 Fraser St.\",\n",
    "             \"2710 Faster Vancouver DC\"]:\n",
    "    Test_Point = geolocator.geocode(typo)\n",
    "\n",
    "    print('Search Term: ', typo)\n",
    "    print('Result: ', Test_Point)\n",
    "    print()\n",
    "    "
   ]
  },
  {
   "cell_type": "code",
   "execution_count": null,
   "metadata": {},
   "outputs": [],
   "source": []
  }
 ],
 "metadata": {
  "kernelspec": {
   "display_name": "Python 3",
   "language": "python",
   "name": "python3"
  },
  "language_info": {
   "codemirror_mode": {
    "name": "ipython",
    "version": 3
   },
   "file_extension": ".py",
   "mimetype": "text/x-python",
   "name": "python",
   "nbconvert_exporter": "python",
   "pygments_lexer": "ipython3",
   "version": "3.8.6"
  }
 },
 "nbformat": 4,
 "nbformat_minor": 4
}
